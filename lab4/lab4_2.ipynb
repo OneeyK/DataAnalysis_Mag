{
 "cells": [
  {
   "cell_type": "code",
   "execution_count": 25,
   "id": "a39413e7-4ed2-4ac1-adf0-14ade9964181",
   "metadata": {},
   "outputs": [
    {
     "name": "stderr",
     "output_type": "stream",
     "text": [
      "Device set to use cpu\n"
     ]
    },
    {
     "name": "stdout",
     "output_type": "stream",
     "text": [
      "Entity: України, Label: LOC\n",
      "Entity: ВолодимирЗеленський, Label: PER\n",
      "Entity: ЄвропейськогоСоюзу, Label: LOC\n",
      "Entity: Києві, Label: LOC\n"
     ]
    }
   ],
   "source": [
    "from transformers import pipeline\n",
    "\n",
    "ner_pipeline = pipeline(\n",
    "    \"token-classification\",\n",
    "    model=\"EvanD/xlm-roberta-base-ukrainian-ner-ukrner\",\n",
    "    tokenizer=\"EvanD/xlm-roberta-base-ukrainian-ner-ukrner\",\n",
    "    device=0\n",
    ")\n",
    "\n",
    "text = \"Президент України Володимир Зеленський зустрівся з представниками Європейського Союзу в Києві.\"\n",
    "\n",
    "results = ner_pipeline(text)\n",
    "\n",
    "entities = []\n",
    "current_entity = []\n",
    "current_label = None\n",
    "\n",
    "for entity in results:\n",
    "    word = entity['word'].replace('▁', '')\n",
    "    label = entity['entity']\n",
    "    \n",
    "    if label.startswith('B-'):\n",
    "        if current_entity:\n",
    "            entities.append({'entity': ''.join(current_entity), 'label': current_label})\n",
    "        current_entity = [word]\n",
    "        current_label = label[2:] \n",
    "    else:\n",
    "        current_entity.append(word)\n",
    "\n",
    "if current_entity:\n",
    "    entities.append({'entity': ''.join(current_entity), 'label': current_label})\n",
    "\n",
    "for entity in entities:\n",
    "    print(f\"Entity: {entity['entity']}, Label: {entity['label']}\")\n"
   ]
  },
  {
   "cell_type": "code",
   "execution_count": null,
   "id": "c021b6ff-d446-4380-b3c7-ecb8055f054f",
   "metadata": {},
   "outputs": [],
   "source": []
  }
 ],
 "metadata": {
  "kernelspec": {
   "display_name": "Python 3 (ipykernel)",
   "language": "python",
   "name": "python3"
  },
  "language_info": {
   "codemirror_mode": {
    "name": "ipython",
    "version": 3
   },
   "file_extension": ".py",
   "mimetype": "text/x-python",
   "name": "python",
   "nbconvert_exporter": "python",
   "pygments_lexer": "ipython3",
   "version": "3.12.2"
  }
 },
 "nbformat": 4,
 "nbformat_minor": 5
}
